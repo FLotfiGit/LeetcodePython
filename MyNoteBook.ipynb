{
 "cells": [
  {
   "cell_type": "code",
   "execution_count": null,
   "metadata": {},
   "outputs": [],
   "source": [
    "# test codes\n"
   ]
  }
 ],
 "metadata": {
  "kernelspec": {
   "display_name": "Python 3.8.13 ('pytorch_m1')",
   "language": "python",
   "name": "python3"
  },
  "language_info": {
   "name": "python",
   "version": "3.8.13"
  },
  "orig_nbformat": 4,
  "vscode": {
   "interpreter": {
    "hash": "7847b48317249e3ca26d69faac65a9677ad7ca85de2bc94a91f5d8868713ce5f"
   }
  }
 },
 "nbformat": 4,
 "nbformat_minor": 2
}
